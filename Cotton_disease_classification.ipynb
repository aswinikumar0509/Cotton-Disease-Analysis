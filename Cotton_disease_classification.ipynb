{
  "cells": [
    {
      "cell_type": "code",
      "execution_count": 1,
      "metadata": {
        "colab": {
          "base_uri": "https://localhost:8080/"
        },
        "id": "G9X8NLQoG81f",
        "outputId": "a45b7b3f-71a0-41c4-c9de-d1eb9c3c90ee"
      },
      "outputs": [
        {
          "output_type": "stream",
          "name": "stdout",
          "text": [
            "Mounted at /content/drive\n"
          ]
        }
      ],
      "source": [
        "from google.colab import drive\n",
        "drive.mount('/content/drive')"
      ]
    },
    {
      "cell_type": "code",
      "execution_count": 2,
      "metadata": {
        "colab": {
          "base_uri": "https://localhost:8080/"
        },
        "id": "0_WbA9AN0QTG",
        "outputId": "e0de6177-4c67-42a9-8d79-fc6ebac872ba"
      },
      "outputs": [
        {
          "output_type": "stream",
          "name": "stdout",
          "text": [
            "Sun Mar 19 17:12:21 2023       \n",
            "+-----------------------------------------------------------------------------+\n",
            "| NVIDIA-SMI 525.85.12    Driver Version: 525.85.12    CUDA Version: 12.0     |\n",
            "|-------------------------------+----------------------+----------------------+\n",
            "| GPU  Name        Persistence-M| Bus-Id        Disp.A | Volatile Uncorr. ECC |\n",
            "| Fan  Temp  Perf  Pwr:Usage/Cap|         Memory-Usage | GPU-Util  Compute M. |\n",
            "|                               |                      |               MIG M. |\n",
            "|===============================+======================+======================|\n",
            "|   0  Tesla T4            Off  | 00000000:00:04.0 Off |                    0 |\n",
            "| N/A   68C    P0    30W /  70W |      0MiB / 15360MiB |      0%      Default |\n",
            "|                               |                      |                  N/A |\n",
            "+-------------------------------+----------------------+----------------------+\n",
            "                                                                               \n",
            "+-----------------------------------------------------------------------------+\n",
            "| Processes:                                                                  |\n",
            "|  GPU   GI   CI        PID   Type   Process name                  GPU Memory |\n",
            "|        ID   ID                                                   Usage      |\n",
            "|=============================================================================|\n",
            "|  No running processes found                                                 |\n",
            "+-----------------------------------------------------------------------------+\n"
          ]
        }
      ],
      "source": [
        "!nvidia-smi"
      ]
    },
    {
      "cell_type": "markdown",
      "metadata": {
        "id": "tf231naKkiH2"
      },
      "source": [
        "# **Transfer Learning VGG 16 and 19 using keras**"
      ]
    },
    {
      "cell_type": "code",
      "execution_count": 3,
      "metadata": {
        "id": "F5HZaiS1i5fW"
      },
      "outputs": [],
      "source": [
        "from tensorflow.keras.layers import Input, Lambda, Dense, Flatten\n",
        "from tensorflow.keras.models import Model\n",
        "from tensorflow.keras.applications.resnet50 import ResNet50\n",
        "from tensorflow.keras.applications.resnet50 import preprocess_input\n",
        "from tensorflow.keras.preprocessing import image\n",
        "from tensorflow.keras.preprocessing.image import ImageDataGenerator, load_img\n",
        "from tensorflow.keras.models import Sequential\n",
        "from tensorflow.keras.applications.vgg16 import VGG16\n",
        "import numpy as np\n",
        "from glob import glob"
      ]
    },
    {
      "cell_type": "code",
      "execution_count": 4,
      "metadata": {
        "id": "GJJPgDPYljf_"
      },
      "outputs": [],
      "source": [
        "# re_size the image\n",
        "\n",
        "IMAGE_SIZE = [224,224]\n",
        "\n",
        "train_path = '/content/drive/MyDrive/Deep Learning/Cotton disease Analysis/data/train' \n",
        "val_path = '/content/drive/MyDrive/Deep Learning/Cotton disease Analysis/data/val'"
      ]
    },
    {
      "cell_type": "code",
      "execution_count": 5,
      "metadata": {
        "colab": {
          "base_uri": "https://localhost:8080/"
        },
        "id": "RuwzGdXCl8mr",
        "outputId": "f9758f87-3619-4a14-93a4-910284689533"
      },
      "outputs": [
        {
          "output_type": "stream",
          "name": "stdout",
          "text": [
            "Downloading data from https://storage.googleapis.com/tensorflow/keras-applications/vgg16/vgg16_weights_tf_dim_ordering_tf_kernels_notop.h5\n",
            "58889256/58889256 [==============================] - 0s 0us/step\n"
          ]
        }
      ],
      "source": [
        "# iporting the vgg16 library as show below and add preprocessing layer\n",
        "\n",
        "vgg16 = VGG16(input_shape=IMAGE_SIZE + [3], weights='imagenet', include_top=False)"
      ]
    },
    {
      "cell_type": "code",
      "execution_count": 6,
      "metadata": {
        "id": "RbwGLz1KmZnM"
      },
      "outputs": [],
      "source": [
        "for layer in vgg16.layers:\n",
        "  layer.trainable = False"
      ]
    },
    {
      "cell_type": "code",
      "execution_count": 7,
      "metadata": {
        "colab": {
          "base_uri": "https://localhost:8080/"
        },
        "id": "-UmQDe3BsEX3",
        "outputId": "8abb619c-5ef8-467d-c0f1-4c5c492e09cb"
      },
      "outputs": [
        {
          "output_type": "stream",
          "name": "stdout",
          "text": [
            "input_1 False\n",
            "block1_conv1 False\n",
            "block1_conv2 False\n",
            "block1_pool False\n",
            "block2_conv1 False\n",
            "block2_conv2 False\n",
            "block2_pool False\n",
            "block3_conv1 False\n",
            "block3_conv2 False\n",
            "block3_conv3 False\n",
            "block3_pool False\n",
            "block4_conv1 False\n",
            "block4_conv2 False\n",
            "block4_conv3 False\n",
            "block4_pool False\n",
            "block5_conv1 False\n",
            "block5_conv2 False\n",
            "block5_conv3 False\n",
            "block5_pool False\n"
          ]
        }
      ],
      "source": [
        "for layer in vgg16.layers:\n",
        "  print(layer.name , layer.trainable)"
      ]
    },
    {
      "cell_type": "code",
      "execution_count": 8,
      "metadata": {
        "colab": {
          "base_uri": "https://localhost:8080/"
        },
        "id": "mTKsqUU-sELd",
        "outputId": "7f2f124c-93b8-4b51-dd05-4f17b5ee0411"
      },
      "outputs": [
        {
          "output_type": "stream",
          "name": "stdout",
          "text": [
            "Model: \"vgg16\"\n",
            "_________________________________________________________________\n",
            " Layer (type)                Output Shape              Param #   \n",
            "=================================================================\n",
            " input_1 (InputLayer)        [(None, 224, 224, 3)]     0         \n",
            "                                                                 \n",
            " block1_conv1 (Conv2D)       (None, 224, 224, 64)      1792      \n",
            "                                                                 \n",
            " block1_conv2 (Conv2D)       (None, 224, 224, 64)      36928     \n",
            "                                                                 \n",
            " block1_pool (MaxPooling2D)  (None, 112, 112, 64)      0         \n",
            "                                                                 \n",
            " block2_conv1 (Conv2D)       (None, 112, 112, 128)     73856     \n",
            "                                                                 \n",
            " block2_conv2 (Conv2D)       (None, 112, 112, 128)     147584    \n",
            "                                                                 \n",
            " block2_pool (MaxPooling2D)  (None, 56, 56, 128)       0         \n",
            "                                                                 \n",
            " block3_conv1 (Conv2D)       (None, 56, 56, 256)       295168    \n",
            "                                                                 \n",
            " block3_conv2 (Conv2D)       (None, 56, 56, 256)       590080    \n",
            "                                                                 \n",
            " block3_conv3 (Conv2D)       (None, 56, 56, 256)       590080    \n",
            "                                                                 \n",
            " block3_pool (MaxPooling2D)  (None, 28, 28, 256)       0         \n",
            "                                                                 \n",
            " block4_conv1 (Conv2D)       (None, 28, 28, 512)       1180160   \n",
            "                                                                 \n",
            " block4_conv2 (Conv2D)       (None, 28, 28, 512)       2359808   \n",
            "                                                                 \n",
            " block4_conv3 (Conv2D)       (None, 28, 28, 512)       2359808   \n",
            "                                                                 \n",
            " block4_pool (MaxPooling2D)  (None, 14, 14, 512)       0         \n",
            "                                                                 \n",
            " block5_conv1 (Conv2D)       (None, 14, 14, 512)       2359808   \n",
            "                                                                 \n",
            " block5_conv2 (Conv2D)       (None, 14, 14, 512)       2359808   \n",
            "                                                                 \n",
            " block5_conv3 (Conv2D)       (None, 14, 14, 512)       2359808   \n",
            "                                                                 \n",
            " block5_pool (MaxPooling2D)  (None, 7, 7, 512)         0         \n",
            "                                                                 \n",
            "=================================================================\n",
            "Total params: 14,714,688\n",
            "Trainable params: 0\n",
            "Non-trainable params: 14,714,688\n",
            "_________________________________________________________________\n"
          ]
        }
      ],
      "source": [
        "vgg16.summary()"
      ]
    },
    {
      "cell_type": "code",
      "execution_count": 9,
      "metadata": {
        "id": "JcyFLwLAmU31"
      },
      "outputs": [],
      "source": [
        "folders = glob('/content/drive/MyDrive/Deep Learning/Cotton disease Analysis/data/train/*')"
      ]
    },
    {
      "cell_type": "code",
      "execution_count": 10,
      "metadata": {
        "colab": {
          "base_uri": "https://localhost:8080/"
        },
        "id": "ErIAwbTmvnMr",
        "outputId": "aff68663-0c07-4bde-d599-ea4cd804296f"
      },
      "outputs": [
        {
          "output_type": "execute_result",
          "data": {
            "text/plain": [
              "['/content/drive/MyDrive/Deep Learning/Cotton disease Analysis/data/train/diseased cotton leaf',\n",
              " '/content/drive/MyDrive/Deep Learning/Cotton disease Analysis/data/train/fresh cotton leaf',\n",
              " '/content/drive/MyDrive/Deep Learning/Cotton disease Analysis/data/train/diseased cotton plant',\n",
              " '/content/drive/MyDrive/Deep Learning/Cotton disease Analysis/data/train/fresh cotton plant']"
            ]
          },
          "metadata": {},
          "execution_count": 10
        }
      ],
      "source": [
        "folders"
      ]
    },
    {
      "cell_type": "code",
      "execution_count": 11,
      "metadata": {
        "colab": {
          "base_uri": "https://localhost:8080/"
        },
        "id": "wC2-cloivw-e",
        "outputId": "ceeca6f2-d845-4d6c-85d9-ccd9750f8481"
      },
      "outputs": [
        {
          "output_type": "execute_result",
          "data": {
            "text/plain": [
              "4"
            ]
          },
          "metadata": {},
          "execution_count": 11
        }
      ],
      "source": [
        "len(folders)"
      ]
    },
    {
      "cell_type": "code",
      "execution_count": 12,
      "metadata": {
        "id": "6ca0plm0v0lK"
      },
      "outputs": [],
      "source": [
        "model = Sequential()\n",
        "\n",
        "model.add(vgg16)\n",
        "model.add(Flatten())\n",
        "model.add(Dense(256,activation = \"relu\"))\n",
        "model.add(Dense(4,activation = \"softmax\"))"
      ]
    },
    {
      "cell_type": "code",
      "execution_count": 13,
      "metadata": {
        "colab": {
          "base_uri": "https://localhost:8080/"
        },
        "id": "NQfwuirHxYi1",
        "outputId": "9c5ae523-2bf6-4191-c832-e8e31c0cae20"
      },
      "outputs": [
        {
          "output_type": "stream",
          "name": "stdout",
          "text": [
            "Model: \"sequential\"\n",
            "_________________________________________________________________\n",
            " Layer (type)                Output Shape              Param #   \n",
            "=================================================================\n",
            " vgg16 (Functional)          (None, 7, 7, 512)         14714688  \n",
            "                                                                 \n",
            " flatten (Flatten)           (None, 25088)             0         \n",
            "                                                                 \n",
            " dense (Dense)               (None, 256)               6422784   \n",
            "                                                                 \n",
            " dense_1 (Dense)             (None, 4)                 1028      \n",
            "                                                                 \n",
            "=================================================================\n",
            "Total params: 21,138,500\n",
            "Trainable params: 6,423,812\n",
            "Non-trainable params: 14,714,688\n",
            "_________________________________________________________________\n"
          ]
        }
      ],
      "source": [
        "model.summary()"
      ]
    },
    {
      "cell_type": "code",
      "execution_count": 14,
      "metadata": {
        "id": "IZ8PGiydxbFc"
      },
      "outputs": [],
      "source": [
        "# Intialization of the cost function and the optimizer\n",
        "\n",
        "model.compile(\n",
        "    loss = \"categorical_crossentropy\",\n",
        "    optimizer = \"adam\",\n",
        "    metrics = [\"accuracy\"]\n",
        ")"
      ]
    },
    {
      "cell_type": "code",
      "execution_count": 15,
      "metadata": {
        "id": "NOR-TzNS0Bgy"
      },
      "outputs": [],
      "source": [
        "from tensorflow.keras.preprocessing.image import ImageDataGenerator"
      ]
    },
    {
      "cell_type": "code",
      "execution_count": 16,
      "metadata": {
        "id": "4rbVkCJs15EC"
      },
      "outputs": [],
      "source": [
        "train_datagen = ImageDataGenerator(rescale = 1./255,\n",
        "                                   shear_range = 0.2,\n",
        "                                   zoom_range = 0.2,\n",
        "                                   horizontal_flip = True)\n",
        "\n",
        "test_datagen = ImageDataGenerator(rescale = 1./255)"
      ]
    },
    {
      "cell_type": "code",
      "execution_count": 17,
      "metadata": {
        "colab": {
          "base_uri": "https://localhost:8080/"
        },
        "id": "yUlPNJUO18KB",
        "outputId": "aed6738c-ec24-43f8-d063-fd909b5b07e7"
      },
      "outputs": [
        {
          "output_type": "stream",
          "name": "stdout",
          "text": [
            "Found 1961 images belonging to 4 classes.\n"
          ]
        }
      ],
      "source": [
        "training_set = train_datagen.flow_from_directory('/content/drive/MyDrive/Deep Learning/Cotton disease Analysis/data/train',\n",
        "                                                 target_size = (224,224),\n",
        "                                                 batch_size = 32,\n",
        "                                                 class_mode = 'categorical'\n",
        "                                                 )"
      ]
    },
    {
      "cell_type": "code",
      "execution_count": 18,
      "metadata": {
        "colab": {
          "base_uri": "https://localhost:8080/"
        },
        "id": "A-rZKqBM2InL",
        "outputId": "54d9620b-4530-4ab2-add2-a77c8e046684"
      },
      "outputs": [
        {
          "output_type": "stream",
          "name": "stdout",
          "text": [
            "Found 324 images belonging to 4 classes.\n"
          ]
        }
      ],
      "source": [
        "test_set = test_datagen.flow_from_directory('/content/drive/MyDrive/Deep Learning/Cotton disease Analysis/data/val',\n",
        "                                            target_size = (224,224),\n",
        "                                            batch_size = 32,\n",
        "                                            class_mode = 'categorical')"
      ]
    },
    {
      "cell_type": "code",
      "execution_count": 19,
      "metadata": {
        "colab": {
          "base_uri": "https://localhost:8080/"
        },
        "id": "9E5l_t-O2TEM",
        "outputId": "daece11e-83c9-48cf-c158-677b61acc22a"
      },
      "outputs": [
        {
          "metadata": {
            "tags": null
          },
          "name": "stdout",
          "output_type": "stream",
          "text": [
            "Epoch 1/22\n",
            "62/62 [==============================] - 473s 7s/step - loss: 1.4109 - accuracy: 0.7149 - val_loss: 0.2549 - val_accuracy: 0.9043\n",
            "Epoch 2/22\n",
            "62/62 [==============================] - 41s 662ms/step - loss: 0.2520 - accuracy: 0.9067 - val_loss: 0.2020 - val_accuracy: 0.9259\n",
            "Epoch 3/22\n",
            "62/62 [==============================] - 41s 663ms/step - loss: 0.1910 - accuracy: 0.9312 - val_loss: 0.1462 - val_accuracy: 0.9414\n",
            "Epoch 4/22\n",
            "62/62 [==============================] - 41s 661ms/step - loss: 0.1889 - accuracy: 0.9281 - val_loss: 0.2852 - val_accuracy: 0.8858\n",
            "Epoch 5/22\n",
            "62/62 [==============================] - 41s 662ms/step - loss: 0.1143 - accuracy: 0.9577 - val_loss: 0.2258 - val_accuracy: 0.9136\n",
            "Epoch 6/22\n",
            "62/62 [==============================] - 41s 665ms/step - loss: 0.0840 - accuracy: 0.9699 - val_loss: 0.1580 - val_accuracy: 0.9352\n",
            "Epoch 7/22\n",
            "62/62 [==============================] - 41s 661ms/step - loss: 0.0618 - accuracy: 0.9801 - val_loss: 0.1260 - val_accuracy: 0.9537\n",
            "Epoch 8/22\n",
            "62/62 [==============================] - 41s 656ms/step - loss: 0.0748 - accuracy: 0.9745 - val_loss: 0.0954 - val_accuracy: 0.9660\n",
            "Epoch 9/22\n",
            "62/62 [==============================] - 41s 660ms/step - loss: 0.1051 - accuracy: 0.9587 - val_loss: 0.0888 - val_accuracy: 0.9691\n",
            "Epoch 10/22\n",
            "62/62 [==============================] - 41s 657ms/step - loss: 0.0545 - accuracy: 0.9832 - val_loss: 0.0865 - val_accuracy: 0.9691\n",
            "Epoch 11/22\n",
            "62/62 [==============================] - 41s 658ms/step - loss: 0.0318 - accuracy: 0.9898 - val_loss: 0.1861 - val_accuracy: 0.9290\n",
            "Epoch 12/22\n",
            "62/62 [==============================] - 41s 656ms/step - loss: 0.0464 - accuracy: 0.9857 - val_loss: 0.1906 - val_accuracy: 0.9228\n",
            "Epoch 13/22\n",
            "62/62 [==============================] - 41s 659ms/step - loss: 0.0350 - accuracy: 0.9903 - val_loss: 0.1632 - val_accuracy: 0.9290\n",
            "Epoch 14/22\n",
            "62/62 [==============================] - 41s 660ms/step - loss: 0.0474 - accuracy: 0.9827 - val_loss: 0.1957 - val_accuracy: 0.9167\n",
            "Epoch 15/22\n",
            "62/62 [==============================] - 41s 666ms/step - loss: 0.0385 - accuracy: 0.9857 - val_loss: 0.1370 - val_accuracy: 0.9475\n",
            "Epoch 16/22\n",
            "62/62 [==============================] - 41s 656ms/step - loss: 0.0262 - accuracy: 0.9929 - val_loss: 0.0790 - val_accuracy: 0.9630\n",
            "Epoch 17/22\n",
            "62/62 [==============================] - 41s 656ms/step - loss: 0.0216 - accuracy: 0.9924 - val_loss: 0.1073 - val_accuracy: 0.9599\n",
            "Epoch 18/22\n",
            "62/62 [==============================] - 41s 655ms/step - loss: 0.0247 - accuracy: 0.9908 - val_loss: 0.2664 - val_accuracy: 0.9012\n",
            "Epoch 19/22\n",
            "62/62 [==============================] - 40s 651ms/step - loss: 0.0458 - accuracy: 0.9847 - val_loss: 0.0917 - val_accuracy: 0.9691\n",
            "Epoch 20/22\n",
            "62/62 [==============================] - 39s 636ms/step - loss: 0.0636 - accuracy: 0.9791 - val_loss: 0.1848 - val_accuracy: 0.9352\n",
            "Epoch 21/22\n",
            "62/62 [==============================] - 40s 643ms/step - loss: 0.0341 - accuracy: 0.9893 - val_loss: 0.1000 - val_accuracy: 0.9660\n",
            "Epoch 22/22\n",
            "62/62 [==============================] - 42s 671ms/step - loss: 0.0132 - accuracy: 0.9959 - val_loss: 0.1387 - val_accuracy: 0.9599\n"
          ]
        }
      ],
      "source": [
        "# fit the model\n",
        "\n",
        "r = model.fit(\n",
        "    training_set,\n",
        "    validation_data = test_set,\n",
        "    epochs = 22,\n",
        "    steps_per_epoch = len(training_set),\n",
        "    validation_steps = len(test_set)\n",
        ")"
      ]
    },
    {
      "cell_type": "code",
      "execution_count": 20,
      "metadata": {
        "id": "JjBZXGYs2Vhs"
      },
      "outputs": [],
      "source": [
        "import matplotlib.pyplot as plt"
      ]
    },
    {
      "cell_type": "code",
      "execution_count": 21,
      "metadata": {
        "id": "DIX1oH_sRvhC",
        "colab": {
          "base_uri": "https://localhost:8080/",
          "height": 282
        },
        "outputId": "edd69e9a-6f1f-4cf9-c418-2fd611b70ce7"
      },
      "outputs": [
        {
          "output_type": "display_data",
          "data": {
            "text/plain": [
              "<Figure size 432x288 with 1 Axes>"
            ],
            "image/png": "[encoded data removed]"
          },
          "metadata": {
            "needs_background": "light"
          }
        },
        {
          "output_type": "display_data",
          "data": {
            "text/plain": [
              "<Figure size 432x288 with 0 Axes>"
            ]
          },
          "metadata": {}
        }
      ],
      "source": [
        "# pllotting the loss\n",
        "\n",
        "plt.plot(r.history['loss'],label = 'train_loss')\n",
        "plt.plot(r.history['val_loss'], label = 'val_loss')\n",
        "plt.legend()\n",
        "plt.show()\n",
        "plt.savefig('lossvall_loss')"
      ]
    },
    {
      "cell_type": "code",
      "execution_count": 22,
      "metadata": {
        "id": "44HiA2uyRvZD",
        "colab": {
          "base_uri": "https://localhost:8080/",
          "height": 282
        },
        "outputId": "309df766-e41d-4b1b-9c0e-686b7c90e19d"
      },
      "outputs": [
        {
          "output_type": "display_data",
          "data": {
            "text/plain": [
              "<Figure size 432x288 with 1 Axes>"
            ],
            "image/png": "[encoded data removed]"
          },
          "metadata": {
            "needs_background": "light"
          }
        },
        {
          "output_type": "display_data",
          "data": {
            "text/plain": [
              "<Figure size 432x288 with 0 Axes>"
            ]
          },
          "metadata": {}
        }
      ],
      "source": [
        "# plotting the accuracy \n",
        "plt.plot(r.history['accuracy'],label = 'train_acc')\n",
        "plt.plot(r.history['val_accuracy'],label = 'val_acc')\n",
        "plt.legend()\n",
        "plt.show()\n",
        "plt.savefig('accuracyfig')"
      ]
    },
    {
      "cell_type": "code",
      "execution_count": 23,
      "metadata": {
        "id": "pEpB2RUdRvT5"
      },
      "outputs": [],
      "source": [
        "# Saving the model as h5 file\n",
        "\n",
        "from tensorflow.keras.models import load_model\n",
        "\n",
        "model.save('modelvgg16.h5')"
      ]
    },
    {
      "cell_type": "code",
      "execution_count": 24,
      "metadata": {
        "id": "OEZ8fXk0RvOo",
        "colab": {
          "base_uri": "https://localhost:8080/"
        },
        "outputId": "da5c34d5-359e-4db7-ec59-c3be4641df44"
      },
      "outputs": [
        {
          "output_type": "stream",
          "name": "stdout",
          "text": [
            "11/11 [==============================] - 3s 262ms/step\n"
          ]
        }
      ],
      "source": [
        "y_pred = model.predict(test_set)"
      ]
    },
    {
      "cell_type": "code",
      "execution_count": 25,
      "metadata": {
        "id": "PpW-oj7FRvD0",
        "colab": {
          "base_uri": "https://localhost:8080/"
        },
        "outputId": "681a0e95-f3e8-4af5-c1db-054a37bb825c"
      },
      "outputs": [
        {
          "output_type": "execute_result",
          "data": {
            "text/plain": [
              "array([[6.1544291e-08, 8.6004138e-01, 2.1967200e-08, 1.3995847e-01],\n",
              "       [5.4477358e-08, 9.9999273e-01, 3.8791562e-08, 7.1955533e-06],\n",
              "       [1.8323988e-04, 2.1951155e-04, 9.9487668e-01, 4.7205193e-03],\n",
              "       ...,\n",
              "       [5.2079560e-07, 9.8054296e-01, 4.1675754e-04, 1.9039758e-02],\n",
              "       [2.7117196e-03, 1.1871144e-04, 9.9716944e-01, 1.7190813e-07],\n",
              "       [7.2023504e-08, 9.9978691e-01, 3.3282550e-08, 2.1296975e-04]],\n",
              "      dtype=float32)"
            ]
          },
          "metadata": {},
          "execution_count": 25
        }
      ],
      "source": [
        "y_pred"
      ]
    },
    {
      "cell_type": "code",
      "execution_count": 26,
      "metadata": {
        "id": "5NqtRyFwR57x"
      },
      "outputs": [],
      "source": [
        "import numpy as np\n",
        "\n",
        "y_pred = np.argmax(y_pred,axis = 1)"
      ]
    },
    {
      "cell_type": "code",
      "execution_count": 27,
      "metadata": {
        "id": "xj8D0R9fR9Z5"
      },
      "outputs": [],
      "source": [
        "from tensorflow.keras.models import load_model\n",
        "from tensorflow.keras.preprocessing import image"
      ]
    },
    {
      "cell_type": "code",
      "execution_count": 28,
      "metadata": {
        "id": "hC5pmwlHR9Vj"
      },
      "outputs": [],
      "source": [
        "model = load_model('modelvgg16.h5')"
      ]
    },
    {
      "cell_type": "code",
      "execution_count": 30,
      "metadata": {
        "id": "CAb1szRVR9TB"
      },
      "outputs": [],
      "source": [
        "img = image.load_img('/content/drive/MyDrive/Deep Learning/Cotton disease Analysis/data/train/diseased cotton leaf/dis_leaf (1)_iaip.jpg',target_size = (224,224))"
      ]
    },
    {
      "cell_type": "code",
      "execution_count": 31,
      "metadata": {
        "id": "-scPMhwIR9Pv",
        "colab": {
          "base_uri": "https://localhost:8080/",
          "height": 241
        },
        "outputId": "53023dae-199c-458a-dbd9-674ae7d078cc"
      },
      "outputs": [
        {
          "output_type": "execute_result",
          "data": {
            "text/plain": [
              "<PIL.Image.Image image mode=RGB size=224x224 at 0x7F710DEA6CA0>"
            ],
            "image/png": "[encoded data removed]"
          },
          "metadata": {},
          "execution_count": 31
        }
      ],
      "source": [
        "img"
      ]
    },
    {
      "cell_type": "code",
      "source": [
        "x=image.img_to_array(img)\n",
        "x"
      ],
      "metadata": {
        "colab": {
          "base_uri": "https://localhost:8080/"
        },
        "id": "fqUUiSLU_XFS",
        "outputId": "23397615-0769-459e-970d-12de49dfcb36"
      },
      "execution_count": 32,
      "outputs": [
        {
          "output_type": "execute_result",
          "data": {
            "text/plain": [
              "array([[[133., 208.,  90.],\n",
              "        [123., 198.,  80.],\n",
              "        [132., 207.,  89.],\n",
              "        ...,\n",
              "        [ 82., 105.,  63.],\n",
              "        [117., 138., 105.],\n",
              "        [124., 145., 112.]],\n",
              "\n",
              "       [[131., 205.,  90.],\n",
              "        [138., 212.,  97.],\n",
              "        [141., 215., 100.],\n",
              "        ...,\n",
              "        [ 95., 118.,  89.],\n",
              "        [108., 129.,  96.],\n",
              "        [ 75.,  96.,  63.]],\n",
              "\n",
              "       [[122., 196.,  85.],\n",
              "        [143., 217., 106.],\n",
              "        [141., 215., 104.],\n",
              "        ...,\n",
              "        [ 73.,  98.,  79.],\n",
              "        [ 98., 119.,  86.],\n",
              "        [ 96., 117.,  84.]],\n",
              "\n",
              "       ...,\n",
              "\n",
              "       [[162., 219., 150.],\n",
              "        [164., 221., 152.],\n",
              "        [161., 218., 149.],\n",
              "        ...,\n",
              "        [122., 108.,  81.],\n",
              "        [115.,  98.,  70.],\n",
              "        [119., 102.,  74.]],\n",
              "\n",
              "       [[162., 215., 147.],\n",
              "        [166., 219., 151.],\n",
              "        [164., 217., 149.],\n",
              "        ...,\n",
              "        [135., 120.,  99.],\n",
              "        [130., 112.,  92.],\n",
              "        [126., 108.,  88.]],\n",
              "\n",
              "       [[159., 212., 144.],\n",
              "        [166., 219., 151.],\n",
              "        [166., 219., 151.],\n",
              "        ...,\n",
              "        [125., 110.,  89.],\n",
              "        [120., 102.,  82.],\n",
              "        [118., 100.,  80.]]], dtype=float32)"
            ]
          },
          "metadata": {},
          "execution_count": 32
        }
      ]
    },
    {
      "cell_type": "code",
      "source": [
        "x.shape"
      ],
      "metadata": {
        "colab": {
          "base_uri": "https://localhost:8080/"
        },
        "id": "6i7hQo8R_W3a",
        "outputId": "4b24ae1d-adfa-4940-a334-9e293fd210e1"
      },
      "execution_count": 33,
      "outputs": [
        {
          "output_type": "execute_result",
          "data": {
            "text/plain": [
              "(224, 224, 3)"
            ]
          },
          "metadata": {},
          "execution_count": 33
        }
      ]
    },
    {
      "cell_type": "code",
      "source": [
        "x=x/255"
      ],
      "metadata": {
        "id": "puQ1qjM8_WoT"
      },
      "execution_count": 34,
      "outputs": []
    },
    {
      "cell_type": "code",
      "source": [
        "from keras.applications.vgg16 import preprocess_input\n",
        "import numpy as np\n",
        "x=np.expand_dims(x,axis=0)\n",
        "img_data=preprocess_input(x)\n",
        "img_data.shape"
      ],
      "metadata": {
        "colab": {
          "base_uri": "https://localhost:8080/"
        },
        "id": "CZ2vEv7L_iol",
        "outputId": "587cfcda-8168-435d-e607-9f01da1151a8"
      },
      "execution_count": 35,
      "outputs": [
        {
          "output_type": "execute_result",
          "data": {
            "text/plain": [
              "(1, 224, 224, 3)"
            ]
          },
          "metadata": {},
          "execution_count": 35
        }
      ]
    },
    {
      "cell_type": "code",
      "source": [
        "model.predict(img_data)"
      ],
      "metadata": {
        "colab": {
          "base_uri": "https://localhost:8080/"
        },
        "id": "Suy5pZlY_iSL",
        "outputId": "474fea22-0e41-4c42-a57d-38111f186d9b"
      },
      "execution_count": 36,
      "outputs": [
        {
          "output_type": "stream",
          "name": "stdout",
          "text": [
            "1/1 [==============================] - 1s 809ms/step\n"
          ]
        },
        {
          "output_type": "execute_result",
          "data": {
            "text/plain": [
              "array([[9.99999881e-01, 1.27123811e-09, 1.15762395e-08, 8.03981095e-08]],\n",
              "      dtype=float32)"
            ]
          },
          "metadata": {},
          "execution_count": 36
        }
      ]
    },
    {
      "cell_type": "code",
      "source": [
        "a=np.argmax(model.predict(img_data), axis=1)"
      ],
      "metadata": {
        "colab": {
          "base_uri": "https://localhost:8080/"
        },
        "id": "emkeY_ft_n6a",
        "outputId": "157caf54-0307-4660-e27e-cb60b43fe797"
      },
      "execution_count": 37,
      "outputs": [
        {
          "output_type": "stream",
          "name": "stdout",
          "text": [
            "1/1 [==============================] - 0s 21ms/step\n"
          ]
        }
      ]
    },
    {
      "cell_type": "code",
      "source": [
        "a"
      ],
      "metadata": {
        "colab": {
          "base_uri": "https://localhost:8080/"
        },
        "id": "Iz71Kz4-_ntJ",
        "outputId": "44b0a9cf-238b-480e-8a46-9650a3d6d1a4"
      },
      "execution_count": 38,
      "outputs": [
        {
          "output_type": "execute_result",
          "data": {
            "text/plain": [
              "array([0])"
            ]
          },
          "metadata": {},
          "execution_count": 38
        }
      ]
    },
    {
      "cell_type": "code",
      "execution_count": 39,
      "metadata": {
        "id": "_ml5UFLHR9OX"
      },
      "outputs": [],
      "source": [
        "cotton_disease = [\"diseased cotton leaf\",\"fresh cotton leaf\",\"diseased cotton plant\",\"fresh cotton plant\"]"
      ]
    },
    {
      "cell_type": "code",
      "execution_count": 40,
      "metadata": {
        "id": "ClCIUIzhR9JQ",
        "colab": {
          "base_uri": "https://localhost:8080/",
          "height": 36
        },
        "outputId": "807891d2-3367-4d6b-c360-d4e9e86d44a5"
      },
      "outputs": [
        {
          "output_type": "execute_result",
          "data": {
            "text/plain": [
              "'diseased cotton leaf'"
            ],
            "application/vnd.google.colaboratory.intrinsic+json": {
              "type": "string"
            }
          },
          "metadata": {},
          "execution_count": 40
        }
      ],
      "source": [
        "cotton_disease[a[0]]"
      ]
    },
    {
      "cell_type": "code",
      "execution_count": null,
      "metadata": {
        "id": "C-yWkVSOR9Eq"
      },
      "outputs": [],
      "source": []
    }
  ],
  "metadata": {
    "accelerator": "GPU",
    "colab": {
      "provenance": []
    },
    "gpuClass": "standard",
    "kernelspec": {
      "display_name": "Python 3",
      "name": "python3"
    },
    "language_info": {
      "name": "python"
    }
  },
  "nbformat": 4,
  "nbformat_minor": 0
}